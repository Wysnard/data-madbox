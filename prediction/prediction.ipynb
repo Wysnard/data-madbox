{
 "cells": [
  {
   "cell_type": "code",
   "execution_count": 0,
   "metadata": {},
   "outputs": [],
   "source": [
    "# ms-python.python added\n",
    "from fbprophet import Prophet\n",
    "import os\n",
    "try:\n",
    "    os.chdir(os.path.join(os.getcwd(), 'prediction'))\n",
    "    print(os.getcwd())\n",
    "except:\n",
    "    pass"
   ]
  },
  {
   "cell_type": "markdown",
   "metadata": {},
   "source": [
    " # Data Analysis and Prediction Notebook"
   ]
  },
  {
   "cell_type": "markdown",
   "metadata": {},
   "source": [
    " ## Import library"
   ]
  },
  {
   "cell_type": "code",
   "execution_count": 0,
   "metadata": {},
   "outputs": [],
   "source": [
    "from sqlalchemy import create_engine\n",
    "import pandas as pd\n",
    "import os\n",
    "import matplotlib.pyplot as plt\n",
    "import itertools\n",
    "import statsmodels.api as sm\n",
    "import datetime as dt\n",
    "import time\n"
   ]
  },
  {
   "cell_type": "markdown",
   "metadata": {},
   "source": [
    " ## Establish the Database connection"
   ]
  },
  {
   "cell_type": "code",
   "execution_count": 0,
   "metadata": {},
   "outputs": [],
   "source": [
    "# wait for the databases and injector to be ready\n",
    "time.sleep(120)\n",
    "\n",
    "env_var = 'MY_SQL_IP'\n",
    "database = \"localhost\" if env_var not in os.environ else os.environ['MY_SQL_IP']\n",
    "db_connection_str = f\"mysql+pymysql://vlay:123@{database}:3306/madbox\"\n",
    "\n",
    "# Retry to connect until we connect to the database\n",
    "for i in range(20):\n",
    "    try:\n",
    "        db_connection = create_engine(db_connection_str)\n",
    "\n",
    "        # Retrieve data from a select *\n",
    "        sql_str = \"\"\"\n",
    "        SELECT * FROM madbox_api\n",
    "        \"\"\"\n",
    "\n",
    "        # Put the data into a dataframe\n",
    "        df = pd.read_sql(sql_str, db_connection)\\\n",
    "            .reset_index()\\\n",
    "            .assign(\n",
    "            cmp=lambda x: x['spend'] / x['nb_impressions'],\n",
    "            gpm=lambda x: x['profit'] / x['nb_impressions'],\n",
    "            day_name=lambda x: x['date'].dt.weekday_name,\n",
    "        )\\\n",
    "            .set_index(['date'])\\\n",
    "            .drop(['index'], axis='columns')\n",
    "    except Exception as e:\n",
    "        time.sleep(5)\n",
    "        print(e)\n",
    "\n",
    "df.assign(\n",
    "    # recomputation of the metrics to understand how it works\n",
    "    profit_calculated=lambda x: x['revenue'] - x['spend'],\n",
    "    margin_calculated=lambda x: x['profit'] / x['revenue'],\n",
    "    ecpm_calculated=lambda x: x['revenue'] / x['nb_impressions'] * 1000,\n",
    ")\n",
    "\n"
   ]
  },
  {
   "cell_type": "code",
   "execution_count": 0,
   "metadata": {},
   "outputs": [],
   "source": [
    "df.plot(subplots=True, figsize=(20, 20))\n",
    "plt.show()\n",
    "\n"
   ]
  },
  {
   "cell_type": "code",
   "execution_count": 0,
   "metadata": {},
   "outputs": [],
   "source": [
    "f = plt.figure(figsize=(19, 15))\n",
    "plt.matshow(df.corr(), fignum=f.number)\n",
    "plt.xticks(range(df.shape[1]), df.columns, fontsize=14, rotation=45)\n",
    "plt.yticks(range(df.shape[1]), df.columns, fontsize=14)\n",
    "cb = plt.colorbar()\n",
    "cb.ax.tick_params(labelsize=14)\n",
    "plt.title('Correlation Matrix', fontsize=16)\n"
   ]
  },
  {
   "cell_type": "markdown",
   "metadata": {},
   "source": [
    " ## Keeping only relevant data"
   ]
  },
  {
   "cell_type": "code",
   "execution_count": 0,
   "metadata": {},
   "outputs": [],
   "source": [
    "df = df[['spend', 'revenue', 'nb_impressions']]\n"
   ]
  },
  {
   "cell_type": "markdown",
   "metadata": {},
   "source": [
    " ## Facebook Prophet Model"
   ]
  },
  {
   "cell_type": "markdown",
   "metadata": {},
   "source": [
    " ### Look for the optimal parameters"
   ]
  },
  {
   "cell_type": "code",
   "execution_count": 0,
   "metadata": {},
   "outputs": [],
   "source": [
    "\n",
    "revenue = df['revenue'].reset_index().rename(\n",
    "    columns={'date': 'ds', 'revenue': 'y'})\n",
    "model = Prophet()\n",
    "model.fit(revenue)\n",
    "revenue_forecast = model.make_future_dataframe(periods=120, freq='D')\n",
    "revenue_forecast = model.predict(revenue_forecast)\n",
    "plt.figure(figsize=(30, 10))\n",
    "model.plot(revenue_forecast, xlabel='Date', ylabel='revenue')\n",
    "plt.title('Revenue Forecast')\n",
    "\n"
   ]
  },
  {
   "cell_type": "code",
   "execution_count": 0,
   "metadata": {},
   "outputs": [],
   "source": [
    "revenue_forecast\n",
    "\n"
   ]
  },
  {
   "cell_type": "code",
   "execution_count": 0,
   "metadata": {},
   "outputs": [],
   "source": [
    "model.plot_components(revenue_forecast)\n",
    "plt.title('Revenue Forecast Components')\n",
    "\n"
   ]
  },
  {
   "cell_type": "code",
   "execution_count": 0,
   "metadata": {},
   "outputs": [],
   "source": [
    "plt.figure(figsize=(20, 8))\n",
    "plt.plot(revenue['ds'], revenue['y'], 'b-', label='observed')\n",
    "plt.plot(revenue_forecast['ds'],\n",
    "         revenue_forecast['yhat'], 'r-', label='predicted')\n",
    "plt.plot(revenue_forecast['ds'],\n",
    "         revenue_forecast['trend'], 'g-', label='trend')\n",
    "plt.xlabel('Date')\n",
    "plt.ylabel('Revenue')\n",
    "plt.title('Revenue Graph')\n",
    "plt.legend()\n"
   ]
  },
  {
   "cell_type": "markdown",
   "metadata": {},
   "source": [
    " # Prediction"
   ]
  },
  {
   "cell_type": "code",
   "execution_count": 0,
   "metadata": {},
   "outputs": [],
   "source": [
    "pred_lst = []\n",
    "for col in list(df.columns):\n",
    "    data = df[col].reset_index().rename(columns={'date': 'ds', col: 'y'})\n",
    "    model = Prophet()\n",
    "    model.fit(data)\n",
    "    data_forecast = model.make_future_dataframe(periods=120, freq='D')\n",
    "    data_forecast = model.predict(data_forecast)\n",
    "    data_forecast = data_forecast                        .rename(\n",
    "        {'ds': 'date', 'yhat': col, 'trend': col + '_trend'}, axis='columns')                        .set_index(['date'])[[col, col + '_trend']]\n",
    "    pred_lst.append(data_forecast)\n",
    "\n",
    "pred_df = pd.concat(pred_lst, axis='columns')\n",
    "pred_df\n",
    "\n"
   ]
  },
  {
   "cell_type": "code",
   "execution_count": 0,
   "metadata": {},
   "outputs": [],
   "source": [
    "trend_df = pred_df[:len(df)].drop(\n",
    "    df.columns, axis='columns')            .assign(category='observed')\n",
    "df = pd.concat([df, trend_df], axis='columns')\n",
    "\n",
    "df\n",
    "\n"
   ]
  },
  {
   "cell_type": "code",
   "execution_count": 0,
   "metadata": {},
   "outputs": [],
   "source": [
    "pred_df = pred_df[len(df):]            .assign(category='prediction')\n",
    "pred_df\n",
    "\n"
   ]
  },
  {
   "cell_type": "code",
   "execution_count": 0,
   "metadata": {},
   "outputs": [],
   "source": [
    "df = pd.concat([df, pred_df], axis='rows', sort=True)        .sort_index()\n",
    "df\n",
    "\n"
   ]
  },
  {
   "cell_type": "code",
   "execution_count": 0,
   "metadata": {},
   "outputs": [],
   "source": [
    "df.dtypes\n"
   ]
  },
  {
   "cell_type": "markdown",
   "metadata": {},
   "source": [
    " # DataFrame into DataBase"
   ]
  },
  {
   "cell_type": "code",
   "execution_count": 0,
   "metadata": {},
   "outputs": [],
   "source": [
    "df.to_sql('metrics', db_connection, if_exists='replace')\n"
   ]
  }
 ],
 "metadata": {
  "file_extension": ".py",
  "kernelspec": {
   "display_name": "Python 3",
   "language": "python",
   "name": "python3"
  },
  "language_info": {
   "codemirror_mode": {
    "name": "ipython",
    "version": 3
   },
   "file_extension": ".py",
   "mimetype": "text/x-python",
   "name": "python",
   "nbconvert_exporter": "python",
   "pygments_lexer": "ipython3",
   "version": "3.7.5"
  },
  "mimetype": "text/x-python",
  "name": "python",
  "npconvert_exporter": "python",
  "pygments_lexer": "ipython3",
  "version": 3
 },
 "nbformat": 4,
 "nbformat_minor": 2
}
